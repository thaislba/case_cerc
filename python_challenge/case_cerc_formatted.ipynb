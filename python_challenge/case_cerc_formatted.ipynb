{
 "cells": [
  {
   "cell_type": "markdown",
   "id": "23136556",
   "metadata": {},
   "source": [
    "### Apresentação\n",
    "\n",
    "Este notebook tem como objetivo apresentar a análise dos dados do subdataset Chicago bikeshare. O dataset completo está disponível no Kaggle neste [link](https://www.kaggle.com/datasets/yingwurenjian/chicago-divvy-bicycle-sharing-data?resource=download).\n",
    "\n",
    "O subconjunto representa as informações das viagens de bicicletas compartilhadas realizadas em Chicago e disponibilizadas pelo sistema de compartilhamento de bicicletas Chicago Divvy.\n",
    "\n",
    "O código apresentado é baseado no que está disponível em `chicago_bikeshare_pt.py` porém com formatação diferente, comentários adicionais à documentação e asserts removidos. Além disso, a resolução das tarefas estão separadas em células diferentes das células com comentários do case, para identificar a solução basta observar o comentário no início da célula."
   ]
  },
  {
   "cell_type": "markdown",
   "id": "eef05a86",
   "metadata": {},
   "source": [
    "#### Conhecendo o dataset\n",
    "\n",
    "O seguinte bloco de código tem como objetivo extrair e apresentar algumas informações básicas sobre as colunas do dataset para que seja possível se familiarizar com a sua estrutura. Por afinidade e facilidade a biblioteca pandas será utilizada para esse processo."
   ]
  },
  {
   "cell_type": "code",
   "execution_count": 76,
   "id": "c4e6b13b",
   "metadata": {},
   "outputs": [
    {
     "name": "stdout",
     "output_type": "stream",
     "text": [
      "O dataset possui  1048575 linhas.\n",
      "As colunas do dataset são:\n",
      "  ['Start Time', 'End Time', 'Trip Duration', 'Start Station', 'End Station', 'User Type', 'Gender', 'Birth Year;;;;;;; '] \n",
      "\n",
      "Existem os seguintes possíveis valores [nan 'Male' 'Female'] para coluna  Gender\n",
      "A quantidade de nulos na coluna  Gender é: 184891\n",
      "A contagem de cada valor da coluna  Gender é:\n",
      " Gender\n",
      "Male      665437\n",
      "Female    198247\n",
      "NaN       184891\n",
      "Name: count, dtype: int64 \n",
      "\n",
      "Existem os seguintes possíveis valores ['Customer' 'Subscriber' 'Dependent'] para coluna  User Type\n",
      "A quantidade de nulos na coluna  User Type é: 0\n",
      "A contagem de cada valor da coluna  User Type é:\n",
      " User Type\n",
      "Subscriber    863520\n",
      "Customer      185051\n",
      "Dependent          4\n",
      "Name: count, dtype: int64 \n",
      "\n",
      "Existem os seguintes possíveis valores ['Canal St & Taylor St' 'Larrabee St & Menomonee St'\n",
      " 'Orleans St & Chestnut St (NEXT Apts)' 'Franklin St & Monroe St'\n",
      " 'Broadway & Barry Ave' 'State St & Kinzie St' 'Wabash Ave & Wacker Pl'\n",
      " 'Daley Center Plaza' 'Dayton St & North Ave' 'Wilton Ave & Diversey Pkwy'\n",
      " 'Canal St & Madison St' 'Theater on the Lake' 'Halsted St & Maxwell St'\n",
      " 'Ravenswood Ave & Lawrence Ave' 'Clark St & Congress Pkwy'\n",
      " 'Millennium Park' 'Damen Ave & Chicago Ave' 'Paulina Ave & North Ave'\n",
      " 'Lake Shore Dr & Ohio St' 'LaSalle St & Illinois St'\n",
      " 'Greenview Ave & Jarvis Ave' 'McClurg Ct & Illinois St'\n",
      " 'Clark St & Lake St' 'Damen Ave & Charleston St'\n",
      " 'Lakefront Trail & Bryn Mawr Ave' 'Wells St & Evergreen Ave'\n",
      " 'Ritchie Ct & Banks St' 'Kingsbury St & Erie St' 'Broadway & Argyle St'\n",
      " 'Streeter Dr & Grand Ave' 'Financial Pl & Congress Pkwy'\n",
      " 'Wabash Ave & Grand Ave' 'Racine Ave & Fullerton Ave'\n",
      " 'Halsted St & Diversey Pkwy' 'Southport Ave & Wellington Ave'\n",
      " 'Drake Ave & Fullerton Ave' 'Lincoln Ave & Roscoe St'\n",
      " 'Orleans St & Ohio St' 'Lake Shore Dr & Belmont Ave'\n",
      " 'California Ave & Milwaukee Ave' 'Pine Grove Ave & Waveland Ave'\n",
      " 'Kedzie Ave & Milwaukee Ave' 'Broadway & Sheridan Rd'\n",
      " 'Southport Ave & Roscoe St' 'Western Ave & Division St'\n",
      " 'Fairbanks Ct & Grand Ave' 'Racine Ave & Belmont Ave'\n",
      " 'Halsted St & Dickens Ave' 'Peoria St & Jackson Blvd'\n",
      " 'Sangamon St & Washington Blvd (*)' 'Sheffield Ave & Fullerton Ave'\n",
      " 'Damen Ave & Madison St' 'St. Clair St & Erie St'\n",
      " 'Clybourn Ave & Division St' 'Damen Ave & Division St'\n",
      " 'Kimball Ave & Belmont Ave' 'Field Blvd & South Water St'\n",
      " 'Ashland Ave & Division St' 'Larrabee St & Kingsbury St'\n",
      " 'Glenwood Ave & Morse Ave' 'Wabash Ave & Roosevelt Rd'\n",
      " 'Lake Shore Dr & Diversey Pkwy' 'Green St & Randolph St'\n",
      " 'May St & Taylor St' 'Noble St & Milwaukee Ave'\n",
      " 'Wilton Ave & Belmont Ave' 'State St & Randolph St'\n",
      " 'Michigan Ave & Madison St' 'Cornell Ave & Hyde Park Blvd'\n",
      " 'Damen Ave & Melrose Ave' 'Clark St & Bryn Mawr Ave'\n",
      " 'Hampden Ct & Diversey Pkwy' 'Woodlawn Ave & 55th St'\n",
      " 'Sheffield Ave & Kingsbury St' 'Lincoln Ave & Fullerton Ave'\n",
      " 'Damen Ave & Pierce Ave' 'Dearborn St & Monroe St'\n",
      " 'Sheffield Ave & Willow St' 'Halsted St & Willow St'\n",
      " 'Sheridan Rd & Loyola Ave' 'Clinton St & Jackson Blvd'\n",
      " 'Bissell St & Armitage Ave' 'Michigan Ave & 18th St'\n",
      " 'Green St & Madison St' 'Larrabee St & Armitage Ave'\n",
      " 'Clark St & Berwyn Ave' 'Lincoln Ave & Leavitt St' 'Rush St & Hubbard St'\n",
      " 'Morgan St & 18th St' 'Lincoln Ave & Belmont Ave'\n",
      " 'Carpenter St & Huron St' 'Sheffield Ave & Wrightwood Ave'\n",
      " 'Halsted St & Polk St' 'Western Ave & Winnebago Ave'\n",
      " 'Clarendon Ave & Junior Ter' 'Clark St & Armitage Ave'\n",
      " 'Clark St & Lincoln Ave' 'May St & Cullerton St'\n",
      " 'Wood St & Milwaukee Ave' 'Loomis St & Lexington St'\n",
      " 'Clinton St & Roosevelt Rd' 'Leavitt St & Lawrence Ave'\n",
      " 'Canal St & Adams St' 'Wabash Ave & Cermak Rd' 'Halsted St & Roscoe St'\n",
      " 'Damen Ave & Wellington Ave' 'Buckingham Fountain'\n",
      " 'Franklin St & Jackson Blvd' 'Wells St & Huron St'\n",
      " 'Pine Grove Ave & Irving Park Rd' 'Loomis St & Taylor St (*)'\n",
      " 'Wells St & Concord Ln' 'Lake Shore Dr & North Blvd'\n",
      " 'Ravenswood Ave & Berteau Ave' 'Indiana Ave & Roosevelt Rd'\n",
      " 'Mies van der Rohe Way & Chestnut St' 'Michigan Ave & Lake St'\n",
      " 'Clinton St & Madison St' 'Ashland Ave & Grand Ave'\n",
      " 'Ashland Ave & Belle Plaine Ave' 'Clark St & Schiller St'\n",
      " 'Sedgwick St & Webster Ave' 'Broadway & Wilson Ave' 'Ellis Ave & 53rd St'\n",
      " 'Michigan Ave & Pearson St' 'Cityfront Plaza Dr & Pioneer Ct'\n",
      " 'Francisco Ave & Foster Ave' 'Halsted St & Wrightwood Ave'\n",
      " 'Damen Ave & Leland Ave' 'Ellis Ave & 60th St'\n",
      " 'Desplaines St & Kinzie St' 'Dearborn St & Adams St'\n",
      " 'Troy St & North Ave' 'Western Ave & Walton St' 'East Ave & Madison St'\n",
      " 'Michigan Ave & Washington St' 'Larrabee St & Webster Ave'\n",
      " 'Sheridan Rd & Irving Park Rd' 'Sedgwick St & Schiller St'\n",
      " 'Lake Shore Dr & Wellington Ave' 'Sheffield Ave & Webster Ave'\n",
      " 'Lake Shore Dr & Monroe St' 'Racine Ave & 18th St'\n",
      " 'Michigan Ave & 14th St' 'Rush St & Superior St' 'Oakley Ave & Touhy Ave'\n",
      " 'Keystone Ave & Fullerton Ave' 'Spaulding Ave & Division St'\n",
      " 'Clark St & 9th St (AMLI)' 'Paulina St & Howard St' 'Adler Planetarium'\n",
      " 'Museum of Science and Industry' 'Blue Island Ave & 18th St'\n",
      " 'Chicago Ave & Washington St' 'Clifton Ave & Armitage Ave'\n",
      " 'Greenview Ave & Diversey Pkwy' 'Clark St & North Ave'\n",
      " 'Southport Ave & Waveland Ave' 'Campbell Ave & North Ave'\n",
      " 'Damen Ave & Foster Ave' 'Clark St & Elm St'\n",
      " 'Racine Ave (May St) & Fulton St' 'Ashland Ave & Augusta Blvd'\n",
      " 'Leavitt St & Armitage Ave' 'Ashland Ave & Wrightwood Ave'\n",
      " 'Western Ave & Leland Ave' 'Dearborn St & Erie St'\n",
      " 'Paulina St & Montrose Ave' 'Sheffield Ave & Wellington Ave'\n",
      " 'Shields Ave & 28th Pl' 'Wells St & Walton St'\n",
      " 'Clark St & Wrightwood Ave' 'Wentworth Ave & Archer Ave'\n",
      " 'California Ave & 23rd Pl' 'State St & Harrison St'\n",
      " 'Clarendon Ave & Leland Ave' 'Stockton Dr & Wrightwood Ave'\n",
      " 'Leavitt St & North Ave' 'Ogden Ave & Chicago Ave'\n",
      " 'Ada St & Washington Blvd' 'Emerald Ave & 31st St'\n",
      " 'Damen Ave & Grand Ave' 'Ashland Ave & Harrison St'\n",
      " 'California Ave & Byron St' 'Rush St & Cedar St' 'Federal St & Polk St'\n",
      " 'Wabash Ave & 8th St' 'State St & Van Buren St' 'Eckhart Park'\n",
      " 'Clinton St & 18th St' 'Hermitage Ave & Polk St' 'Kimbark Ave & 53rd St'\n",
      " 'Canal St & Harrison St' 'Larrabee St & North Ave'\n",
      " 'Clark St & Wellington Ave' 'Wells St & Polk St' 'Larrabee St & Oak St'\n",
      " 'Clarendon Ave & Gordon Ter' 'Michigan Ave & Oak St'\n",
      " 'Kedzie Ave & Lake St' 'McClurg Ct & Erie St' 'Clark St & Leland Ave'\n",
      " 'Rhodes Ave & 32nd St' 'Lake Park Ave & 53rd St' 'Clark St & Jarvis Ave'\n",
      " 'Greenview Ave & Fullerton Ave' 'Clark St & Lunt Ave'\n",
      " 'Ogden Ave & Race Ave' 'Larrabee St & Division St'\n",
      " 'Ogden Ave & Roosevelt Rd' 'Morgan St & Polk St' 'Franklin St & Lake St'\n",
      " 'Halsted St & North Branch St' 'Damen Ave & Augusta Blvd'\n",
      " 'Burnham Harbor' 'Dusable Harbor' 'Franklin St & Chicago Ave'\n",
      " 'Michigan Ave & Congress Pkwy' 'Damen Ave & Cullerton St'\n",
      " 'Ridge Blvd & Touhy Ave' 'Western Ave & Howard St' 'Broadway & Ridge Ave'\n",
      " 'Albany Ave & Bloomingdale Ave' 'Orleans St & Elm St (*)'\n",
      " 'Sheridan Rd & Buena Ave' 'Shedd Aquarium' 'Calumet Ave & 21st St'\n",
      " 'Calumet Ave & 18th St' 'Milwaukee Ave & Wabansia Ave'\n",
      " 'Aberdeen St & Monroe St' 'Kingsbury St & Kinzie St'\n",
      " 'Wabash Ave & 16th St' 'Dearborn Pkwy & Delaware Pl' 'Montrose Harbor'\n",
      " 'Damen Ave & Sunnyside Ave' 'Southport Ave & Belmont Ave'\n",
      " 'Wolcott Ave & Polk St' 'Cannon Dr & Fullerton Ave'\n",
      " 'Indiana Ave & 26th St' 'Shore Dr & 55th St' 'Wallace St & 35th St'\n",
      " 'Fort Dearborn Dr & 31st St' 'Blackstone Ave & Hyde Park Blvd'\n",
      " 'Benson Ave & Church St' 'Campbell Ave & Montrose Ave'\n",
      " 'Wentworth Ave & 33rd St' 'Wood St & Hubbard St'\n",
      " 'Lincoln Ave & Diversey Pkwy' 'Jefferson St & Monroe St'\n",
      " 'Damen Ave & Cortland St' 'Morgan Ave & 14th Pl'\n",
      " 'Lincoln Ave & Belle Plaine Ave' 'Wood St & 35th St'\n",
      " 'Sheridan Rd & Montrose Ave' 'Lakeview Ave & Fullerton Pkwy'\n",
      " 'Morgan St & Lake St' 'Morgan St & 31st St' 'Racine Ave & Congress Pkwy'\n",
      " 'Drake Ave & Montrose Ave' 'Columbus Dr & Randolph St'\n",
      " 'California Ave & Fletcher St' 'California Ave & Francis Pl'\n",
      " 'Clark St & Grace St' 'Clinton St & Tilden St' 'Jeffery Blvd & 76th St'\n",
      " 'Loomis St & Archer Ave' 'California Ave & 21st St'\n",
      " 'Racine Ave & Wrightwood Ave' 'Washtenaw Ave & Lawrence Ave'\n",
      " 'California Ave & Montrose Ave' 'Michigan Ave & Jackson Blvd'\n",
      " 'Clark St & Winnemac Ave' 'Clinton St & Washington Blvd'\n",
      " 'Halsted St & Blackhawk St (*)' 'Forest Ave & Chicago Ave'\n",
      " 'Christiana Ave & Lawrence Ave' 'Cottage Grove Ave & 71st St'\n",
      " 'Clark St & Chicago Ave' 'Desplaines St & Jackson Blvd'\n",
      " 'Monticello Ave & Irving Park Rd' 'Desplaines St & Randolph St'\n",
      " 'Ashland Ave & Wellington Ave' 'Cottage Grove Ave & 47th St'\n",
      " 'Southport Ave & Clybourn Ave' 'Stony Island Ave & 75th St'\n",
      " 'Western Ave & Granville Ave' 'Clark St & Montrose Ave'\n",
      " 'Halsted St & 21st St' 'Perry Ave & 69th St' 'Broadway & Cornelia Ave'\n",
      " 'Seeley Ave & Roscoe St' 'Cuyler Ave & Augusta St'\n",
      " 'Clark St & Randolph St' 'Marion St & South Blvd'\n",
      " 'Broadway & Thorndale Ave' 'Milwaukee Ave & Grand Ave'\n",
      " 'Racine Ave & Randolph St' 'California Ave & Altgeld St'\n",
      " 'Kedzie Ave & Palmer Ct' 'Central Ave & Chicago Ave'\n",
      " 'Campbell Ave & Fullerton Ave' 'Field Museum' 'Loomis St & Jackson Blvd'\n",
      " 'MLK Jr Dr & 29th St' 'Marshfield Ave & Cortland St'\n",
      " 'Orleans St & Merchandise Mart Plaza' 'Wacker Dr & Washington St'\n",
      " 'Broadway & Belmont Ave' 'Central Park Ave & North Ave'\n",
      " 'Kedzie Ave & Chicago Ave' 'Wells St & Elm St'\n",
      " 'Ravenswood Ave & Balmoral Ave' 'Clinton St & Lake St'\n",
      " 'Southport Ave & Irving Park Rd' 'Sedgwick St & Huron St'\n",
      " 'State St & Pearson St' 'Eastlake Ter & Rogers Ave'\n",
      " 'Chicago Ave & Sheridan Rd' 'State St & 33rd St' 'Halsted St & 37th St'\n",
      " 'Ellis Ave & 58th St' 'Woodlawn Ave & Lake Park Ave'\n",
      " 'Ridgeland Ave & Lake St' 'Sheridan Rd & Noyes St (NU)'\n",
      " 'MLK Jr Dr & 47th St' 'Southport Ave & Wrightwood Ave'\n",
      " 'Sawyer Ave & Irving Park Rd' 'California Ave & North Ave'\n",
      " 'Ashland Ave & Chicago Ave' 'Broadway & Granville Ave'\n",
      " 'Ashland Ave & Grace St' 'Sheffield Ave & Waveland Ave'\n",
      " 'Central St Metra' 'Broadway & Waveland Ave' 'California Ave & 26th St'\n",
      " 'Stony Island Ave & 64th St' 'Clifton Ave & Lawrence Ave'\n",
      " 'Humboldt Blvd & Armitage Ave' 'Ashland Ave & 63rd St'\n",
      " 'Sedgwick St & North Ave' 'LaSalle St & Washington St'\n",
      " 'Wabash Ave & Adams St' 'California Ave & Division St'\n",
      " 'Princeton Ave & Garfield Blvd' 'Logan Blvd & Elston Ave'\n",
      " 'Talman Ave & Addison St' 'Greenwood Ave & 47th St'\n",
      " 'Halsted St & 18th St' 'Winchester Ave & Elston Ave'\n",
      " 'Wentworth Ave & 24th St' 'Dorchester Ave & 49th St'\n",
      " 'Calumet Ave & 51st St' 'Milwaukee Ave & Rockwell St'\n",
      " 'Ogden Ave & Congress Pkwy' 'Lincoln Ave & Waveland Ave'\n",
      " 'Rockwell St & Eastwood Ave' 'Avers Ave & Belmont Ave'\n",
      " 'Clinton St & Polk St (*)' 'MLK Jr Dr & Oakwood Blvd'\n",
      " 'Ravenswood Ave & Montrose Ave (*)' 'Mies van der Rohe Way & Chicago Ave'\n",
      " 'Sheridan Rd & Greenleaf Ave' 'Cottage Grove Ave & Oakwood Blvd'\n",
      " 'Clark St & Elmdale Ave' 'Normal Ave & Archer Ave'\n",
      " 'Halsted St & Roosevelt Rd' 'LaSalle St & Adams St'\n",
      " 'Manor Ave & Leland Ave' 'Stetson Ave & South Water St'\n",
      " 'Wentworth Ave & 35th St' 'Western Ave & 24th St'\n",
      " 'Lake Park Ave & 47th St' 'McCormick Place' 'Calumet Ave & 35th St'\n",
      " 'Ravenswood Ave & Irving Park Rd' 'Artesian Ave & Hubbard St'\n",
      " 'Cottage Grove Ave & 67th St' 'University Ave & 57th St'\n",
      " 'Broadway & Berwyn Ave' 'Western Blvd & 48th Pl'\n",
      " 'Damen Ave & Clybourn Ave' 'Claremont Ave & Hirsch St'\n",
      " 'Halsted St & 63rd St' 'Halsted St & 47th Pl' 'Paulina St & 18th St'\n",
      " 'Prairie Ave & Garfield Blvd' 'Ellis Ave & 55th St' 'Wood St & Taylor St'\n",
      " 'Elmwood Ave & Austin St' 'Aberdeen St & Jackson Blvd'\n",
      " 'Richmond St & Diversey Ave' 'Ashland Ave & 21st St'\n",
      " 'Emerald Ave & 28th St' 'Lake Park Ave & 56th St' 'Kosciuszko Park'\n",
      " 'Sheridan Rd & Lawrence Ave' 'Valli Produce - Evanston Plaza'\n",
      " 'Marine Dr & Ainslie St' 'LaSalle St & Jackson Blvd'\n",
      " 'Kedzie Ave & Roosevelt Rd' 'Ashland Ave & Blackhawk St'\n",
      " 'South Shore Dr & 74th St' 'Saginaw Ave & Exchange Ave'\n",
      " 'Damen Ave & Pershing Rd' 'Ashland Ave & 13th St'\n",
      " 'Wolcott Ave & Fargo Ave' 'Wood St & Division St'\n",
      " 'Kedzie Ave & Harrison St' 'Calumet Ave & 33rd St'\n",
      " 'Clark St & Schreiber Ave' 'Spaulding Ave & Armitage Ave'\n",
      " 'State St & 35th St' 'Kedzie Ave & Foster Ave' 'Stave St & Armitage Ave'\n",
      " 'Oak Park Ave & Harrison St' 'Southport Ave & Clark St'\n",
      " 'Warren Park West' 'Central St & Girard Ave' 'Dodge Ave & Church St'\n",
      " 'Troy St & Elston Ave' 'Racine Ave & 13th St' 'Shields Ave & 31st St'\n",
      " 'Oakley Ave & Roscoe St' 'Canal St & Monroe St (*)'\n",
      " 'Elston Ave & Wabansia Ave' 'Franklin St & Quincy St'\n",
      " 'Cottage Grove Ave & 51st St' '900 W Harrison St'\n",
      " 'Drake Ave & Addison St' 'Ashland Ave & Archer Ave'\n",
      " 'Lake Park Ave & 35th St' 'Indiana Ave & 31st St'\n",
      " 'Kedzie Ave & Leland Ave' 'Oakley Ave & Irving Park Rd'\n",
      " 'Western Ave & Congress Pkwy' 'Forest Ave & Lake St'\n",
      " 'Halsted St & Archer Ave' 'Lombard Ave & Garfield St'\n",
      " 'State St & 19th St' 'Leavitt St & Archer Ave' 'Leavitt St & Addison St'\n",
      " 'Pulaski Rd & Eddy St' 'Central Ave & Madison St'\n",
      " 'Kilbourn Ave & Irving Park Rd' 'Ridge Blvd & Howard St'\n",
      " 'Harper Ave & 59th St' 'Bosworth Ave & Howard St'\n",
      " 'Clark St & Columbia Ave' 'Ashland Ave & Lake St'\n",
      " 'Lincoln Ave & Addison St' 'Laramie Ave & Gladys Ave'\n",
      " 'Western Ave & 21st St' 'Eberhart Ave & 61st St' 'Albany Ave & 26th St'\n",
      " 'DuSable Museum' '2112 W Peterson Ave' 'Western Ave & Lunt Ave'\n",
      " 'Washtenaw Ave & 15th St (*)' 'University Library (NU)'\n",
      " 'Avondale Ave & Irving Park Rd' 'Maplewood Ave & Peterson Ave'\n",
      " 'Fairfield Ave & Roosevelt Rd' 'Indiana Ave & 40th St'\n",
      " 'Stony Island Ave & 67th St' 'Halsted St & 35th St (*)'\n",
      " 'Racine Ave & 15th St' 'Wisconsin Ave & Madison St' 'Warren Park East'\n",
      " 'Albany (Kedzie) Ave & Montrose Ave' 'Budlong Woods Library'\n",
      " 'Kedzie Ave & 24th St' 'Stony Island Ave & 82nd St'\n",
      " 'Lincoln Ave & Winona St' 'Halsted St & 56th St'\n",
      " 'St. Louis Ave & Balmoral Ave' 'Central Park Ave & Ogden Ave'\n",
      " 'Kilbourn Ave & Milwaukee Ave' 'Clark St & Touhy Ave'\n",
      " 'Jeffery Blvd & 67th St' 'Lombard Ave & Madison St'\n",
      " 'Cottage Grove Ave & 43rd St' 'Princeton Ave & 47th St'\n",
      " 'Jeffery Blvd & 71st St' 'East Ave & Garfield St' 'Racine Ave & 35th St'\n",
      " 'Cottage Grove Ave & 63rd St' 'Dorchester Ave & 63rd St'\n",
      " 'Central Park Ave & Elbridge Ave' 'Ashland Ave & Pershing Rd'\n",
      " 'Wells St & 19th St' 'California Ave & Lake St'\n",
      " 'Austin Blvd & Chicago Ave' 'Kedzie Ave & 21st St'\n",
      " 'Keystone Ave & Montrose Ave' 'Central Park Blvd & 5th Ave'\n",
      " 'State St & 29th St' 'Prairie Ave & 43rd St' 'Kedzie Ave & Bryn Mawr Ave'\n",
      " 'Glenwood Ave & Touhy Ave' 'Knox Ave & Montrose Ave'\n",
      " 'Western Ave & Monroe St' 'MLK Jr Dr & 63rd St'\n",
      " 'Sacramento Blvd & Franklin Blvd' 'Oak Park Ave & South Blvd'\n",
      " 'Damen Ave & 51st St' 'Union Ave & Root St' 'Phillips Ave & 79th St'\n",
      " 'Cottage Grove Ave & 83rd St' 'MLK Jr Dr & 56th St (*)'\n",
      " 'Mason Ave & Madison St' 'Ashland Ave & McDowell Ave'\n",
      " 'Pulaski Rd & Madison St' 'Humphrey Ave & Ontario St'\n",
      " 'Damen Ave & Coulter St' 'Milwaukee Ave & Cuyler Ave'\n",
      " 'Hoyne Ave & 47th St' 'Halsted St & 59th St' '63rd St Beach'\n",
      " 'Conservatory Dr & Lake St' 'Kostner Ave & Lake St'\n",
      " 'Stony Island Ave & 71st St' 'Millard Ave & 26th St'\n",
      " 'Austin Blvd & Lake St' 'Greenwood Ave & 79th St' 'State St & 79th St'\n",
      " 'Cottage Grove Ave & 78th St' 'South Shore Dr & 67th St'\n",
      " 'Wabash Ave & 87th St' 'Central Ave & Lake St' 'Cicero Ave & Flournoy St'\n",
      " 'State St & Pershing Rd' 'South Shore Dr & 71st St'\n",
      " 'Kostner Ave & Adams St' 'Laramie Ave & Madison St'\n",
      " 'Pulaski Rd & Lake St' 'Cicero Ave & Lake St' 'Vernon Ave & 75th St'\n",
      " 'Stony Island Ave & South Chicago Ave' 'Bennett Ave & 79th St'\n",
      " 'Ashland Ave & 50th St' 'Wentworth Ave & 63rd St' 'Evans Ave & 75th St'\n",
      " 'Central Ave & Harrison St' 'Marshfield Ave & 44th St'\n",
      " 'Throop St & 52nd St' 'Pulaski Rd & Congress Pkwy'\n",
      " 'Ashland Ave & 66th St' 'Ashland Ave & 69th St' 'Cicero Ave & Quincy St'\n",
      " 'Commercial Ave & 83rd St' 'Normal Ave & 72nd St'\n",
      " 'Woodlawn Ave & 75th St' 'Seeley Ave & Garfield Blvd'\n",
      " 'Western Ave & 28th St' 'Halsted St & 69th St' 'MLK Jr Dr & 83rd St'\n",
      " 'Halsted St & 51st St' 'Racine Ave & 61st St' 'Morgan St & Pershing Rd'\n",
      " 'Kenton Ave & Madison St' 'May St & 69th St' 'Rainbow Beach'\n",
      " 'Elizabeth St & 47th St' 'Yates Blvd & 75th St' 'Lawndale Ave & 23rd St'\n",
      " 'Marshfield Ave & 59th St' 'Calumet Ave & 71st St' 'Wabash Ave & 83rd St'\n",
      " 'Ellis Ave & 83rd St' 'Laramie Ave & Kinzie St'\n",
      " 'Racine Ave & Garfield Blvd' 'Vernon Ave & 79th St'\n",
      " 'California Ave & Cortez St' 'Racine Ave & 65th St'\n",
      " 'Shields Ave & 43rd St' 'Exchange Ave & 79th St' 'Damen Ave & 59th St'\n",
      " 'South Chicago Ave & 83rd St'] para coluna  Start Station\n",
      "A quantidade de nulos na coluna  Start Station é: 0\n",
      "A contagem de cada valor da coluna  Start Station é:\n",
      " Start Station\n",
      "Streeter Dr & Grand Ave         21012\n",
      "Clinton St & Washington Blvd    16666\n",
      "Clinton St & Madison St         13907\n",
      "Lake Shore Dr & Monroe St       13231\n",
      "Canal St & Adams St             13083\n",
      "                                ...  \n",
      "Throop St & 52nd St                 2\n",
      "Calumet Ave & 71st St               1\n",
      "May St & 69th St                    1\n",
      "Vernon Ave & 79th St                1\n",
      "Halsted St & 51st St                1\n",
      "Name: count, Length: 578, dtype: int64 \n",
      "\n"
     ]
    }
   ],
   "source": [
    "import pandas as pd\n",
    "\n",
    "df = pd.read_csv('chicago.csv')\n",
    "\n",
    "def analyzer(column: str, data: list) -> None:\n",
    "    \"\"\"\n",
    "      Imprime informações sobre coluna indicada \n",
    "      Argumentos:\n",
    "          data: lista representando o conjunto de dados.\n",
    "          column: coluna a ser analisa\n",
    "      Retorna:\n",
    "          Sem retorno\n",
    "\n",
    "    \"\"\"     \n",
    "    print(\"Existem os seguintes possíveis valores\",df[column].unique(), \"para coluna \", column)\n",
    "    print(\"A quantidade de nulos na coluna \",column, \"é:\", df[column].isna().sum())\n",
    "    print(\"A contagem de cada valor da coluna \",column, \"é:\\n\", df[column].value_counts(dropna=False), \"\\n\")\n",
    "\n",
    "\n",
    "print(\"O dataset possui \",len(df), \"linhas.\")\n",
    "print(\"As colunas do dataset são:\\n \", list(df.columns), \"\\n\")\n",
    "\n",
    "\n",
    "analyzer('Gender', df)\n",
    "analyzer('User Type', df)\n",
    "analyzer('Start Station', df)"
   ]
  },
  {
   "cell_type": "markdown",
   "id": "1c914fc1",
   "metadata": {},
   "source": [
    "#### Começando o case\n",
    "A partir desta seção os códigos apresentados serão resultado das tarefas propostas em `chicago_bikeshare_pt.py`."
   ]
  },
  {
   "cell_type": "code",
   "execution_count": 21,
   "id": "4478b142",
   "metadata": {},
   "outputs": [
    {
     "name": "stdout",
     "output_type": "stream",
     "text": [
      "Lendo o documento...\n",
      "Ok!\n",
      "Número de linhas:\n",
      "1048576\n",
      "Linha 0: \n",
      "['Start Time', 'End Time', 'Trip Duration', 'Start Station', 'End Station', 'User Type', 'Gender', 'Birth Year;;;;;;; ']\n",
      "Linha 1: \n",
      "['2017-01-01 00:00:36', '2017-01-01 00:06:32', '356', 'Canal St & Taylor St', 'Canal St & Monroe St (*)', 'Customer', '', ';;;;;;;']\n",
      "Aperte Enter para continuar...\n"
     ]
    },
    {
     "data": {
      "text/plain": [
       "''"
      ]
     },
     "execution_count": 21,
     "metadata": {},
     "output_type": "execute_result"
    }
   ],
   "source": [
    "# coding: utf-8 \n",
    "\n",
    "# Começando com os imports\n",
    "import csv\n",
    "import matplotlib.pyplot as plt\n",
    "\n",
    "# Vamos ler os dados como uma lista\n",
    "print(\"Lendo o documento...\")\n",
    "with open(\"chicago.csv\", \"r\") as file_read:\n",
    "    reader = csv.reader(file_read)\n",
    "    data_list = list(reader)\n",
    "print(\"Ok!\")\n",
    "\n",
    "# Vamos verificar quantas linhas nós temos\n",
    "print(\"Número de linhas:\")\n",
    "print(len(data_list))\n",
    "\n",
    "# Imprimindo a primeira linha de data_list para verificar se funcionou.\n",
    "print(\"Linha 0: \")\n",
    "print(data_list[0])\n",
    "# É o cabeçalho dos dados, para que possamos identificar as colunas.\n",
    "\n",
    "# Imprimindo a segunda linha de data_list, ela deveria conter alguns dados\n",
    "print(\"Linha 1: \")\n",
    "print(data_list[1])\n",
    "\n",
    "input(\"Aperte Enter para continuar...\")"
   ]
  },
  {
   "cell_type": "markdown",
   "id": "e3d8e3d5",
   "metadata": {},
   "source": [
    "#### TAREFA 1\n",
    "\n",
    "TODO: Imprima as primeiras 20 linhas usando um loop para identificar os dados."
   ]
  },
  {
   "cell_type": "code",
   "execution_count": 53,
   "id": "6ae03bb0",
   "metadata": {},
   "outputs": [
    {
     "name": "stdout",
     "output_type": "stream",
     "text": [
      "\n",
      "\n",
      "TAREFA 1: Imprimindo as primeiras 20 amostras\n",
      "['2017-01-01 00:02:54', '2017-01-01 00:08:21', '327', 'Larrabee St & Menomonee St', 'Sheffield Ave & Kingsbury St', 'Subscriber', 'Male', '1984.0;;;;;;;']\n",
      "['2017-01-01 00:06:06', '2017-01-01 00:18:31', '745', 'Orleans St & Chestnut St (NEXT Apts)', 'Ashland Ave & Blackhawk St', 'Subscriber', 'Male', '1985.0;;;;;;;']\n",
      "['2017-01-01 00:07:28', '2017-01-01 00:12:51', '323', 'Franklin St & Monroe St', 'Clinton St & Tilden St', 'Subscriber', 'Male', '1990.0;;;;;;;']\n",
      "['2017-01-01 00:07:57', '2017-01-01 00:20:53', '776', 'Broadway & Barry Ave', 'Sedgwick St & North Ave', 'Subscriber', 'Male', '1990.0;;;;;;;']\n",
      "['2017-01-01 00:10:44', '2017-01-01 00:21:27', '643', 'State St & Kinzie St', 'Wells St & Polk St', 'Subscriber', 'Male', '1970.0;;;;;;;']\n",
      "['2017-01-01 00:11:34', '2017-01-01 00:23:47', '733', 'Wabash Ave & Wacker Pl', 'Clinton St & Tilden St', 'Subscriber', 'Male', '1986.0;;;;;;;']\n",
      "['2017-01-01 00:14:57', '2017-01-01 00:26:22', '685', 'Daley Center Plaza', 'Canal St & Monroe St (*)', 'Customer', '', ';;;;;;;']\n",
      "['2017-01-01 00:15:03', '2017-01-01 00:26:28', '685', 'Daley Center Plaza', 'Canal St & Monroe St (*)', 'Customer', '', ';;;;;;;']\n",
      "['2017-01-01 00:17:01', '2017-01-01 00:29:49', '768', 'Dayton St & North Ave', 'Ogden Ave & Chicago Ave', 'Customer', '', ';;;;;;;']\n",
      "['2017-01-01 00:17:13', '2017-01-01 11:03:34', '38781', 'Wilton Ave & Diversey Pkwy', 'Halsted St & Wrightwood Ave', 'Subscriber', 'Female', '1988.0;;;;;;;']\n",
      "['2017-01-01 00:18:28', '2017-01-01 00:31:05', '757', 'Canal St & Madison St', 'LaSalle St & Illinois St', 'Customer', '', ';;;;;;;']\n",
      "['2017-01-01 00:18:50', '2017-01-01 00:21:47', '177', 'Theater on the Lake', 'Lakeview Ave & Fullerton Pkwy', 'Subscriber', 'Male', '1991.0;;;;;;;']\n",
      "['2017-01-01 00:23:41', '2017-01-01 00:29:13', '332', 'Halsted St & Maxwell St', 'Halsted St & 18th St', 'Subscriber', 'Male', '1984.0;;;;;;;']\n",
      "['2017-01-01 00:25:47', '2017-01-01 00:39:53', '846', 'Ravenswood Ave & Lawrence Ave', 'Clarendon Ave & Gordon Ter', 'Subscriber', 'Female', '1987.0;;;;;;;']\n",
      "['2017-01-01 00:25:47', '2017-01-01 00:43:23', '1056', 'Clark St & Congress Pkwy', 'Wolcott Ave & Polk St', 'Subscriber', 'Male', '1984.0;;;;;;;']\n",
      "['2017-01-01 00:26:21', '2017-01-01 00:39:40', '799', 'Ravenswood Ave & Lawrence Ave', 'Clarendon Ave & Gordon Ter', 'Subscriber', 'Male', '1987.0;;;;;;;']\n",
      "['2017-01-01 00:27:21', '2017-01-01 00:42:59', '938', 'Millennium Park', 'Michigan Ave & 18th St', 'Subscriber', 'Male', '1991.0;;;;;;;']\n",
      "['2017-01-01 00:27:28', '2017-01-01 00:42:44', '916', 'Millennium Park', 'Michigan Ave & 18th St', 'Subscriber', 'Female', '1990.0;;;;;;;']\n",
      "['2017-01-01 00:27:45', '2017-01-01 00:31:13', '208', 'Damen Ave & Chicago Ave', 'Damen Ave & Division St', 'Subscriber', 'Male', '1982.0;;;;;;;']\n",
      "['2017-01-01 00:27:52', '2017-01-01 00:33:46', '354', 'Paulina Ave & North Ave', 'Damen Ave & Division St', 'Subscriber', 'Female', '1982.0;;;;;;;']\n"
     ]
    }
   ],
   "source": [
    "#Solução da TAREFA 1 \n",
    "\n",
    "print(\"\\n\\nTAREFA 1: Imprimindo as primeiras 20 amostras\")\n",
    "#imprime os registros da posição 1 a 21\n",
    "for i in range(21):\n",
    "    if data_list[i] is not data_list[0]:\n",
    "        print(data_list[i])"
   ]
  },
  {
   "cell_type": "code",
   "execution_count": 23,
   "id": "311d1050",
   "metadata": {},
   "outputs": [
    {
     "name": "stdout",
     "output_type": "stream",
     "text": [
      "Aperte Enter para continuar...\n"
     ]
    },
    {
     "data": {
      "text/plain": [
       "''"
      ]
     },
     "execution_count": 23,
     "metadata": {},
     "output_type": "execute_result"
    }
   ],
   "source": [
    "# Vamos mudar o data_list para remover o cabeçalho dele.\n",
    "data_list = data_list[1:]\n",
    "\n",
    "# Nós podemos acessar as features pelo índice\n",
    "# Por exemplo: sample[6] para imprimir gênero, ou sample[-2]\n",
    "\n",
    "input(\"Aperte Enter para continuar...\")"
   ]
  },
  {
   "cell_type": "markdown",
   "id": "da304117",
   "metadata": {},
   "source": [
    "#### TAREFA 2\n",
    "TODO: Imprima o `gênero` das primeiras 20 linhas"
   ]
  },
  {
   "cell_type": "code",
   "execution_count": 54,
   "id": "ba8094e8",
   "metadata": {},
   "outputs": [
    {
     "name": "stdout",
     "output_type": "stream",
     "text": [
      "\n",
      "TAREFA 2: Imprimindo o gênero das primeiras 20 amostras\n",
      "amostra  0 : \n",
      "amostra  1 : Male\n",
      "amostra  2 : Male\n",
      "amostra  3 : Male\n",
      "amostra  4 : Male\n",
      "amostra  5 : Male\n",
      "amostra  6 : Male\n",
      "amostra  7 : \n",
      "amostra  8 : \n",
      "amostra  9 : \n",
      "amostra  10 : Female\n",
      "amostra  11 : \n",
      "amostra  12 : Male\n",
      "amostra  13 : Male\n",
      "amostra  14 : Female\n",
      "amostra  15 : Male\n",
      "amostra  16 : Male\n",
      "amostra  17 : Male\n",
      "amostra  18 : Female\n",
      "amostra  19 : Male\n"
     ]
    }
   ],
   "source": [
    "#Solução da TAREFA 2\n",
    "\n",
    "print(\"\\nTAREFA 2: Imprimindo o gênero das primeiras 20 amostras\")\n",
    "for i in range(20):\n",
    "    print(\"amostra \",i,\":\",data_list[i][6]) #imprime a coluna 6[Gender] de cada linha i do dataset"
   ]
  },
  {
   "cell_type": "code",
   "execution_count": 55,
   "id": "f4295384",
   "metadata": {},
   "outputs": [
    {
     "name": "stdout",
     "output_type": "stream",
     "text": [
      "Aperte Enter para continuar...\n"
     ]
    },
    {
     "data": {
      "text/plain": [
       "''"
      ]
     },
     "execution_count": 55,
     "metadata": {},
     "output_type": "execute_result"
    }
   ],
   "source": [
    "# Ótimo! Nós podemos pegar as linhas(samples) iterando com um for, e as colunas(features) por índices.\n",
    "# Mas ainda é difícil pegar uma coluna em uma lista. Exemplo: Lista com todos os gêneros\n",
    "\n",
    "input(\"Aperte Enter para continuar...\")"
   ]
  },
  {
   "cell_type": "markdown",
   "id": "7e2d4356",
   "metadata": {},
   "source": [
    "#### TAREFA 3\n",
    "TODO: Crie uma função para adicionar as colunas(features) de uma lista em outra lista, na mesma ordem"
   ]
  },
  {
   "cell_type": "code",
   "execution_count": 56,
   "id": "a1a4f988",
   "metadata": {},
   "outputs": [],
   "source": [
    "#Solução da TAREFA 3\n",
    "\n",
    "def column_to_list(data:list,index: int) -> list:\n",
    "    \"\"\"\n",
    "      Retorna a lista de dados de uma coluna cujo índice informado é index.\n",
    "      Argumentos:\n",
    "          data: lista representando o conjunto de dados.\n",
    "          index: índice da coluna no conjunto de dados.\n",
    "      Retorna:\n",
    "          A lista de dados correspondente a uma coluna.\n",
    "\n",
    "    \"\"\"\n",
    "    \n",
    "    column_list = []\n",
    "    # Dica: Você pode usar um for para iterar sobre as amostras, pegar a feature pelo seu índice, e dar append para uma lista\n",
    "    for line in data:\n",
    "        column_list.append(line[index])\n",
    "    return column_list"
   ]
  },
  {
   "cell_type": "code",
   "execution_count": 57,
   "id": "24a43adc",
   "metadata": {},
   "outputs": [
    {
     "name": "stdout",
     "output_type": "stream",
     "text": [
      "\n",
      "TAREFA 3: Imprimindo a lista de gêneros das primeiras 20 amostras\n",
      "['', 'Male', 'Male', 'Male', 'Male', 'Male', 'Male', '', '', '', 'Female', '', 'Male', 'Male', 'Female', 'Male', 'Male', 'Male', 'Female', 'Male']\n"
     ]
    }
   ],
   "source": [
    "# Vamos checar com os gêneros se isso está funcionando (apenas para os primeiros 20)\n",
    "print(\"\\nTAREFA 3: Imprimindo a lista de gêneros das primeiras 20 amostras\")\n",
    "print(column_to_list(data_list, -2)[:20])"
   ]
  },
  {
   "cell_type": "code",
   "execution_count": 58,
   "id": "cfdd86fc",
   "metadata": {},
   "outputs": [
    {
     "name": "stdout",
     "output_type": "stream",
     "text": [
      "Aperte Enter para continuar...\n"
     ]
    },
    {
     "data": {
      "text/plain": [
       "''"
      ]
     },
     "execution_count": 58,
     "metadata": {},
     "output_type": "execute_result"
    }
   ],
   "source": [
    "input(\"Aperte Enter para continuar...\")\n",
    "# Vamos contar quantos Male (Masculinos) e Female (Femininos) o dataset tem"
   ]
  },
  {
   "cell_type": "markdown",
   "id": "d08f207f",
   "metadata": {},
   "source": [
    "#### TAREFA 4\n",
    "TODO: Conte cada gênero. Você não deveria usar uma função para isso."
   ]
  },
  {
   "cell_type": "code",
   "execution_count": 59,
   "id": "7a99eef3",
   "metadata": {},
   "outputs": [],
   "source": [
    "#Solução da TAREFA 4\n",
    "#para cada linha do dataset adiciona +1 ao respectivo contador se o valor do campo Gender for Female ou Male\n",
    "male = 0\n",
    "female = 0\n",
    "for line in data_list:\n",
    "    if (line[-2]) == \"Female\":\n",
    "        female += 1\n",
    "    elif (line[-2]) == \"Male\":\n",
    "        male += 1"
   ]
  },
  {
   "cell_type": "code",
   "execution_count": 60,
   "id": "5017e8cb",
   "metadata": {},
   "outputs": [
    {
     "name": "stdout",
     "output_type": "stream",
     "text": [
      "\n",
      "TAREFA 4: Imprimindo quantos masculinos e femininos nós encontramos\n",
      "Masculinos:  665437 \n",
      "Femininos:  198247\n",
      "Aperte Enter para continuar...\n"
     ]
    },
    {
     "data": {
      "text/plain": [
       "''"
      ]
     },
     "execution_count": 60,
     "metadata": {},
     "output_type": "execute_result"
    }
   ],
   "source": [
    "# Verificando o resultado\n",
    "print(\"\\nTAREFA 4: Imprimindo quantos masculinos e femininos nós encontramos\")\n",
    "print(\"Masculinos: \", male, \"\\nFemininos: \", female)\n",
    "input(\"Aperte Enter para continuar...\")"
   ]
  },
  {
   "cell_type": "markdown",
   "id": "7086835a",
   "metadata": {},
   "source": [
    "#### TAREFA 5\n",
    "TODO: Crie uma função para contar os gêneros. Retorne uma lista.\n",
    "#Isso deveria retornar uma lista com [count_male, count_female] (exemplo: `[10, 15]` significa 10 Masculinos, 15 Femininos)"
   ]
  },
  {
   "cell_type": "code",
   "execution_count": 61,
   "id": "95d8cf68",
   "metadata": {},
   "outputs": [],
   "source": [
    "#Solução da TAREFA 5\n",
    "\n",
    "def count_gender(data_list:list) -> list:\n",
    "    \"\"\"\n",
    "      Retorna a lista contendo o total de gêneros masculinos e femininos no dataset.\n",
    "      Argumentos:\n",
    "          data: lista representando o conjunto de dados.\n",
    "      Retorna:\n",
    "          A lista de dados correspondente a contagem de masculinos e femininos.\n",
    "\n",
    "    \"\"\"\n",
    "    \n",
    "    male = 0\n",
    "    female = 0\n",
    "    for line in data_list:\n",
    "        if (line[-2]) == \"Female\":\n",
    "            female += 1\n",
    "        elif (line[-2]) == \"Male\":\n",
    "            male += 1\n",
    "    return [male, female]"
   ]
  },
  {
   "cell_type": "code",
   "execution_count": 62,
   "id": "c00377aa",
   "metadata": {},
   "outputs": [
    {
     "name": "stdout",
     "output_type": "stream",
     "text": [
      "\n",
      "TAREFA 5: Imprimindo o resultado de count_gender\n",
      "[665437, 198247]\n",
      "Aperte Enter para continuar...\n"
     ]
    },
    {
     "data": {
      "text/plain": [
       "''"
      ]
     },
     "execution_count": 62,
     "metadata": {},
     "output_type": "execute_result"
    }
   ],
   "source": [
    "print(\"\\nTAREFA 5: Imprimindo o resultado de count_gender\")\n",
    "print(count_gender(data_list))\n",
    "input(\"Aperte Enter para continuar...\")"
   ]
  },
  {
   "cell_type": "markdown",
   "id": "97f421b9",
   "metadata": {},
   "source": [
    "#### TAREFA 6\n",
    "TODO: Crie uma função que pegue o gênero mais popular, e retorne este gênero como uma string.\n",
    "Esperamos ver \"Male\", \"Female\", ou \"Equal\" como resposta."
   ]
  },
  {
   "cell_type": "code",
   "execution_count": 63,
   "id": "c936662d",
   "metadata": {},
   "outputs": [],
   "source": [
    "#Solução da TAREFA 6\n",
    "\n",
    "def most_popular_gender(data_list: list) -> str:\n",
    "    \"\"\"\n",
    "      Retorna o gênero mais popular no dataset.\n",
    "      Argumentos:\n",
    "          data: lista representando o conjunto de dados.\n",
    "      Retorna:\n",
    "          Gênero mais frequente no dataset.\n",
    "\n",
    "    \"\"\"    \n",
    "    \n",
    "    if count_gender(data_list)[0] > count_gender(data_list)[1]:\n",
    "        answer = \"Male\"\n",
    "    elif count_gender(data_list)[0] < count_gender(data_list)[1]:\n",
    "        answer = \"Female\"\n",
    "    elif count_gender(data_list)[0] == count_gender(data_list)[1]:\n",
    "        answer = \"Equal\"\n",
    "    return answer"
   ]
  },
  {
   "cell_type": "code",
   "execution_count": 64,
   "id": "06d8447f",
   "metadata": {},
   "outputs": [
    {
     "name": "stdout",
     "output_type": "stream",
     "text": [
      "\n",
      "TAREFA 6: Qual é o gênero mais popular na lista?\n",
      "O gênero mais popular na lista é:  Male\n"
     ]
    }
   ],
   "source": [
    "print(\"\\nTAREFA 6: Qual é o gênero mais popular na lista?\")\n",
    "print(\"O gênero mais popular na lista é: \", most_popular_gender(data_list))"
   ]
  },
  {
   "cell_type": "code",
   "execution_count": 66,
   "id": "ddcddaa2",
   "metadata": {},
   "outputs": [
    {
     "data": {
      "image/png": "[encoded data removed]",
      "text/plain": [
       "<Figure size 640x480 with 1 Axes>"
      ]
     },
     "metadata": {},
     "output_type": "display_data"
    },
    {
     "name": "stdout",
     "output_type": "stream",
     "text": [
      "Aperte Enter para continuar...\n"
     ]
    },
    {
     "data": {
      "text/plain": [
       "''"
      ]
     },
     "execution_count": 66,
     "metadata": {},
     "output_type": "execute_result"
    }
   ],
   "source": [
    "# Se tudo está rodando como esperado, verifique este gráfico!\n",
    "gender_list = column_to_list(data_list, -2)\n",
    "types = [\"Male\", \"Female\"]\n",
    "quantity = count_gender(data_list)\n",
    "y_pos = list(range(len(types)))\n",
    "plt.bar(y_pos, quantity)\n",
    "plt.ylabel('Quantidade')\n",
    "plt.xlabel('Gênero')\n",
    "plt.xticks(y_pos, types)\n",
    "plt.title('Quantidade por Gênero')\n",
    "plt.show(block=True)\n",
    "\n",
    "input(\"Aperte Enter para continuar...\")"
   ]
  },
  {
   "cell_type": "markdown",
   "id": "1b9fca74",
   "metadata": {},
   "source": [
    "#### TAREFA 7\n",
    "TODO: Crie um gráfico similar para user_types. Tenha certeza que a legenda está correta."
   ]
  },
  {
   "cell_type": "code",
   "execution_count": 67,
   "id": "02011b9d",
   "metadata": {},
   "outputs": [
    {
     "name": "stdout",
     "output_type": "stream",
     "text": [
      "\n",
      "TAREFA 7: Verifique o gráfico!\n"
     ]
    }
   ],
   "source": [
    "print(\"\\nTAREFA 7: Verifique o gráfico!\")"
   ]
  },
  {
   "cell_type": "code",
   "execution_count": 68,
   "id": "83f72d5d",
   "metadata": {},
   "outputs": [
    {
     "data": {
      "image/png": "[encoded data removed]",
      "text/plain": [
       "<Figure size 640x480 with 1 Axes>"
      ]
     },
     "metadata": {},
     "output_type": "display_data"
    }
   ],
   "source": [
    "#Solução da TAREFA 7\n",
    "\n",
    "def count_user_type(data_list: list) -> list:\n",
    "    \"\"\"\n",
    "      Retorna a lista com a volumetria de dados para cada user type.\n",
    "      Argumentos:\n",
    "          data: lista representando o conjunto de dados.\n",
    "      Retorna:\n",
    "          Lista com a volumetria de cada user type do dataset.\n",
    "\n",
    "    \"\"\"    \n",
    "    \n",
    "    customer = 0\n",
    "    subscriber = 0\n",
    "    dependent = 0\n",
    "    \n",
    "    for line in data_list:\n",
    "        if (line[-3]) == \"Customer\":\n",
    "            customer += 1\n",
    "        elif (line[-3]) == \"Subscriber\":\n",
    "            subscriber += 1\n",
    "        elif (line[-3]) == \"Dependent\":\n",
    "            dependent += 1\n",
    "    return [customer, subscriber, dependent]\n",
    "\n",
    "user_type_list = column_to_list(data_list, -3)\n",
    "types = [\"Customer\", \"Subscriber\", \"Dependent\"]\n",
    "quantity = count_user_type(data_list)\n",
    "y_pos = list(range(len(types)))\n",
    "plt.bar(y_pos, quantity)\n",
    "plt.ylabel('Quantidade')\n",
    "plt.xlabel('User Type')\n",
    "plt.xticks(y_pos, types)\n",
    "plt.title('Quantidade por User Type')\n",
    "plt.show(block=True)"
   ]
  },
  {
   "cell_type": "markdown",
   "id": "f90357a0",
   "metadata": {},
   "source": [
    "#### TAREFA 8\n",
    "TODO: Responda a seguinte questão"
   ]
  },
  {
   "cell_type": "code",
   "execution_count": 69,
   "id": "a133eb14",
   "metadata": {},
   "outputs": [
    {
     "name": "stdout",
     "output_type": "stream",
     "text": [
      "\n",
      "TAREFA 8: Por que a condição a seguir é Falsa?\n",
      "male + female == len(data_list): False\n"
     ]
    }
   ],
   "source": [
    "male, female = count_gender(data_list)\n",
    "print(\"\\nTAREFA 8: Por que a condição a seguir é Falsa?\")\n",
    "print(\"male + female == len(data_list):\", male + female == len(data_list))"
   ]
  },
  {
   "cell_type": "code",
   "execution_count": 70,
   "id": "af003c3a",
   "metadata": {},
   "outputs": [
    {
     "name": "stdout",
     "output_type": "stream",
     "text": [
      "resposta: A condição apresentada é falsa pois na coluna Gender existem 184891 registros vazios. Logo male + female representa apenas uma parte do dataset.\n"
     ]
    }
   ],
   "source": [
    "#Solução da TAREFA 8\n",
    "\n",
    "answer = \"A condição apresentada é falsa pois na coluna Gender existem 184891 registros vazios. Logo male + female representa apenas uma parte do dataset.\"\n",
    "print(\"resposta:\", answer)"
   ]
  },
  {
   "cell_type": "markdown",
   "id": "43ae8575",
   "metadata": {},
   "source": [
    "#### TAREFA 9\n",
    "TODO: Ache a duração de viagem Mínima, Máxima, Média, e Mediana.\n",
    "Você não deve usar funções prontas para isso, como max() e min()."
   ]
  },
  {
   "cell_type": "code",
   "execution_count": 72,
   "id": "76ef85e4",
   "metadata": {},
   "outputs": [],
   "source": [
    "#Solução da TAREFA 9\n",
    "\n",
    "sum_trip_duration = 0\n",
    "count_occurrences = 0\n",
    "\n",
    "trip_duration_list = column_to_list(data_list, 2) #cria uma lista de trip_duration\n",
    "trip_duration_list = [int(i) for i in trip_duration_list] #itera sobre a lista e faz o cast de trip_duration para int que é str\n",
    "\n",
    "trip_duration_list.sort() #ordena a lista de trip_duration em ordem ascendente\n",
    "min_trip = trip_duration_list[0] #pega o menor valor da lista ordenada\n",
    "max_trip = trip_duration_list[-1] #pega o último valor da lista ordenada\n",
    "\n",
    "#para cada valor da lista realiza o count e o sum para obter os totais\n",
    "for value in trip_duration_list:\n",
    "    sum_trip_duration += value\n",
    "    count_occurrences += 1\n",
    "    \n",
    "mean_trip = round(sum_trip_duration/count_occurrences) #formula de cálculo da média\n",
    "index = round((count_occurrences + 1)/2) #fórmula para encontrar o índice correspondente a mediana\n",
    "median_trip = trip_duration_list[index]\n"
   ]
  },
  {
   "cell_type": "code",
   "execution_count": 73,
   "id": "73b36fa0",
   "metadata": {},
   "outputs": [
    {
     "name": "stdout",
     "output_type": "stream",
     "text": [
      "\n",
      "TAREFA 9: Imprimindo o mínimo, máximo, média, e mediana\n",
      "Min:  60 Max:  86338 Média:  885 Mediana:  624\n",
      "Aperte Enter para continuar...\n"
     ]
    },
    {
     "data": {
      "text/plain": [
       "''"
      ]
     },
     "execution_count": 73,
     "metadata": {},
     "output_type": "execute_result"
    }
   ],
   "source": [
    "print(\"\\nTAREFA 9: Imprimindo o mínimo, máximo, média, e mediana\")\n",
    "print(\"Min: \", min_trip, \"Max: \", max_trip, \"Média: \", mean_trip, \"Mediana: \", median_trip)\n",
    "input(\"Aperte Enter para continuar...\")"
   ]
  },
  {
   "cell_type": "markdown",
   "id": "782a1857",
   "metadata": {},
   "source": [
    "#### TAREFA 10\n",
    "Gênero é fácil porque nós temos apenas algumas opções. E quanto a start_stations? Quantas opções ele tem?\n",
    "TODO: Verifique quantos tipos de start_stations nós temos, usando set()"
   ]
  },
  {
   "cell_type": "code",
   "execution_count": 74,
   "id": "b476d928",
   "metadata": {},
   "outputs": [],
   "source": [
    "#Solução da TAREFA 10\n",
    "\n",
    "start_stations_list = column_to_list(data_list, 3) #cria uma lista de start_stations\n",
    "start_stations = set(start_stations_list) #aplica a função set() para obter uma coleção de registros únicos"
   ]
  },
  {
   "cell_type": "code",
   "execution_count": 43,
   "id": "492dffb7",
   "metadata": {},
   "outputs": [
    {
     "name": "stdout",
     "output_type": "stream",
     "text": [
      "\n",
      "TAREFA 10: Imprimindo as start stations:\n",
      "578\n",
      "{'Ashland Ave & Division St', 'Kedzie Ave & Palmer Ct', 'Calumet Ave & 51st St', 'Ellis Ave & 58th St', 'State St & 79th St', 'Michigan Ave & Pearson St', 'Ashland Ave & Lake St', 'Logan Blvd & Elston Ave', 'Broadway & Berwyn Ave', 'Keystone Ave & Montrose Ave', 'Christiana Ave & Lawrence Ave', 'Lake Park Ave & 35th St', 'Lake Park Ave & 53rd St', 'Halsted St & 37th St', 'Evans Ave & 75th St', 'Western Ave & 28th St', 'Sheffield Ave & Fullerton Ave', 'Lake Park Ave & 56th St', 'Damen Ave & Augusta Blvd', 'University Library (NU)', 'Emerald Ave & 28th St', 'Field Blvd & South Water St', 'Wells St & Concord Ln', 'Normal Ave & Archer Ave', 'Michigan Ave & 18th St', 'South Chicago Ave & 83rd St', 'Canal St & Taylor St', 'Kosciuszko Park', 'Central Park Ave & Ogden Ave', 'Daley Center Plaza', 'Claremont Ave & Hirsch St', 'MLK Jr Dr & 83rd St', 'Clark St & Wellington Ave', 'Dearborn St & Adams St', 'Chicago Ave & Washington St', 'Marine Dr & Ainslie St', 'State St & 29th St', 'Saginaw Ave & Exchange Ave', 'Wentworth Ave & Archer Ave', 'Cottage Grove Ave & 83rd St', 'Buckingham Fountain', 'Damen Ave & Chicago Ave', 'Broadway & Belmont Ave', 'Racine Ave & 35th St', 'Calumet Ave & 21st St', 'Kedzie Ave & Foster Ave', 'Halsted St & Wrightwood Ave', 'Seeley Ave & Garfield Blvd', 'Wentworth Ave & 24th St', 'Damen Ave & Coulter St', 'Sheridan Rd & Loyola Ave', 'California Ave & Francis Pl', 'Racine Ave (May St) & Fulton St', 'Bosworth Ave & Howard St', 'Union Ave & Root St', 'Michigan Ave & Jackson Blvd', 'Green St & Randolph St', 'Loomis St & Jackson Blvd', 'Mies van der Rohe Way & Chestnut St', 'Halsted St & 47th Pl', 'Sacramento Blvd & Franklin Blvd', 'Loomis St & Lexington St', 'Sedgwick St & Schiller St', 'Ashland Ave & Archer Ave', 'Clark St & Montrose Ave', 'Cicero Ave & Flournoy St', 'Stetson Ave & South Water St', 'Fairfield Ave & Roosevelt Rd', 'Halsted St & 35th St (*)', 'Central Ave & Madison St', 'Campbell Ave & North Ave', 'South Shore Dr & 71st St', 'Calumet Ave & 71st St', 'Michigan Ave & Washington St', 'Clinton St & Roosevelt Rd', 'Wolcott Ave & Polk St', 'Oakley Ave & Roscoe St', 'Pulaski Rd & Lake St', 'Pine Grove Ave & Waveland Ave', 'Emerald Ave & 31st St', 'Forest Ave & Chicago Ave', 'Racine Ave & 13th St', 'Clinton St & Lake St', 'Wabash Ave & 83rd St', 'Central Park Ave & North Ave', 'Southport Ave & Clybourn Ave', 'Sheffield Ave & Wellington Ave', 'LaSalle St & Illinois St', 'Clark St & Armitage Ave', 'State St & Pearson St', '2112 W Peterson Ave', 'Eastlake Ter & Rogers Ave', 'Damen Ave & Pierce Ave', 'Racine Ave & 18th St', 'Wabash Ave & 16th St', 'Mies van der Rohe Way & Chicago Ave', 'State St & Kinzie St', 'Racine Ave & Congress Pkwy', 'Aberdeen St & Jackson Blvd', 'Woodlawn Ave & Lake Park Ave', 'Wells St & Polk St', 'Michigan Ave & Lake St', 'Morgan St & Polk St', 'Wells St & Elm St', 'Glenwood Ave & Morse Ave', 'Racine Ave & Garfield Blvd', 'Montrose Harbor', 'Eckhart Park', 'Franklin St & Quincy St', 'Western Ave & Division St', 'Sheridan Rd & Lawrence Ave', 'Damen Ave & Sunnyside Ave', 'Halsted St & Diversey Pkwy', 'Damen Ave & Pershing Rd', 'Halsted St & 18th St', 'Theater on the Lake', 'Wood St & 35th St', 'Vernon Ave & 75th St', 'Clark St & Jarvis Ave', 'Washtenaw Ave & 15th St (*)', 'Wabash Ave & 87th St', 'Wallace St & 35th St', 'MLK Jr Dr & 63rd St', 'Ravenswood Ave & Berteau Ave', 'Dearborn St & Erie St', 'Clark St & Chicago Ave', 'Cannon Dr & Fullerton Ave', 'Oak Park Ave & Harrison St', 'Desplaines St & Kinzie St', 'Larrabee St & Division St', 'Wacker Dr & Washington St', 'Lincoln Ave & Waveland Ave', 'LaSalle St & Jackson Blvd', 'Stony Island Ave & 71st St', 'Rush St & Cedar St', 'Clark St & Lincoln Ave', 'Campbell Ave & Montrose Ave', 'California Ave & Milwaukee Ave', 'Kedzie Ave & Milwaukee Ave', 'Damen Ave & Leland Ave', 'Broadway & Waveland Ave', 'Lombard Ave & Garfield St', 'Conservatory Dr & Lake St', 'Wabash Ave & Adams St', 'Adler Planetarium', 'Racine Ave & 61st St', 'Leavitt St & Addison St', 'Hoyne Ave & 47th St', 'Ravenswood Ave & Montrose Ave (*)', 'Oakley Ave & Touhy Ave', 'Dorchester Ave & 49th St', 'Clark St & Bryn Mawr Ave', 'Field Museum', 'California Ave & Byron St', 'Loomis St & Taylor St (*)', 'Kedzie Ave & 24th St', 'Morgan Ave & 14th Pl', 'Spaulding Ave & Armitage Ave', 'Broadway & Cornelia Ave', 'Clark St & Columbia Ave', 'Wentworth Ave & 33rd St', 'Ashland Ave & 50th St', 'Throop St & 52nd St', 'McClurg Ct & Illinois St', 'Ravenswood Ave & Balmoral Ave', 'Michigan Ave & Oak St', 'Fairbanks Ct & Grand Ave', 'Federal St & Polk St', 'East Ave & Garfield St', 'Calumet Ave & 18th St', 'Western Ave & Lunt Ave', 'Morgan St & 18th St', 'Cottage Grove Ave & 78th St', 'Spaulding Ave & Division St', 'Damen Ave & Madison St', 'Western Ave & 24th St', 'Sangamon St & Washington Blvd (*)', 'Ogden Ave & Chicago Ave', 'State St & Van Buren St', 'Cityfront Plaza Dr & Pioneer Ct', 'Greenwood Ave & 79th St', 'Shields Ave & 43rd St', 'Wabash Ave & Wacker Pl', 'Michigan Ave & Madison St', 'Drake Ave & Fullerton Ave', 'Prairie Ave & 43rd St', 'Ada St & Washington Blvd', 'Dusable Harbor', 'Dearborn Pkwy & Delaware Pl', 'Michigan Ave & 14th St', 'MLK Jr Dr & 29th St', 'Rush St & Superior St', 'Perry Ave & 69th St', 'Milwaukee Ave & Grand Ave', 'Austin Blvd & Lake St', 'Clark St & North Ave', 'Broadway & Argyle St', 'Clark St & Lunt Ave', 'Benson Ave & Church St', 'MLK Jr Dr & 56th St (*)', 'Cornell Ave & Hyde Park Blvd', 'Elston Ave & Wabansia Ave', 'Western Ave & Granville Ave', 'Central Ave & Lake St', 'Cottage Grove Ave & 67th St', 'Larrabee St & Menomonee St', 'Ellis Ave & 60th St', 'Lincoln Ave & Belle Plaine Ave', 'Damen Ave & Clybourn Ave', 'Kilbourn Ave & Milwaukee Ave', 'Larrabee St & Oak St', 'Larrabee St & Webster Ave', 'Elizabeth St & 47th St', 'Broadway & Thorndale Ave', 'Halsted St & Roosevelt Rd', 'Ashland Ave & Grand Ave', 'Rockwell St & Eastwood Ave', '63rd St Beach', 'Sheridan Rd & Montrose Ave', 'Wells St & 19th St', 'Sedgwick St & North Ave', 'Clark St & Congress Pkwy', 'Wood St & Hubbard St', 'Ridge Blvd & Touhy Ave', 'Damen Ave & 59th St', 'Clark St & Schiller St', 'Seeley Ave & Roscoe St', 'Troy St & Elston Ave', 'Damen Ave & 51st St', 'Lake Shore Dr & Ohio St', 'Racine Ave & 65th St', 'Laramie Ave & Gladys Ave', 'Marshfield Ave & Cortland St', 'Commercial Ave & 83rd St', 'Columbus Dr & Randolph St', 'Indiana Ave & 31st St', 'Marion St & South Blvd', 'Sheffield Ave & Webster Ave', 'Wilton Ave & Belmont Ave', 'Orleans St & Merchandise Mart Plaza', '900 W Harrison St', 'Franklin St & Jackson Blvd', 'Clinton St & Washington Blvd', 'Wentworth Ave & 63rd St', 'Wentworth Ave & 35th St', 'LaSalle St & Washington St', 'Eberhart Ave & 61st St', 'Kingsbury St & Erie St', 'Clinton St & Tilden St', 'Richmond St & Diversey Ave', 'Western Ave & Monroe St', 'Rainbow Beach', 'Paulina Ave & North Ave', 'Avers Ave & Belmont Ave', 'Indiana Ave & Roosevelt Rd', 'Clark St & 9th St (AMLI)', 'Morgan St & Pershing Rd', 'Halsted St & 21st St', 'Dearborn St & Monroe St', 'Western Ave & Leland Ave', 'Kedzie Ave & Bryn Mawr Ave', 'Clark St & Elm St', 'Lincoln Ave & Addison St', 'Phillips Ave & 79th St', 'Ashland Ave & Pershing Rd', 'MLK Jr Dr & Oakwood Blvd', 'Lincoln Ave & Belmont Ave', 'Milwaukee Ave & Wabansia Ave', 'Ashland Ave & Wrightwood Ave', 'Wells St & Evergreen Ave', 'Rhodes Ave & 32nd St', 'Western Ave & Congress Pkwy', 'Jeffery Blvd & 67th St', 'Ellis Ave & 53rd St', 'Milwaukee Ave & Rockwell St', 'Halsted St & Dickens Ave', 'McCormick Place', 'Racine Ave & Belmont Ave', 'Broadway & Wilson Ave', 'State St & 35th St', 'Clifton Ave & Armitage Ave', 'Western Ave & 21st St', 'Cicero Ave & Lake St', 'Princeton Ave & Garfield Blvd', 'Leavitt St & Lawrence Ave', 'Kimbark Ave & 53rd St', 'Lake Park Ave & 47th St', 'Orleans St & Chestnut St (NEXT Apts)', 'Humphrey Ave & Ontario St', 'Cottage Grove Ave & 63rd St', 'Greenwood Ave & 47th St', 'Elmwood Ave & Austin St', 'Kostner Ave & Adams St', 'Lakefront Trail & Bryn Mawr Ave', 'California Ave & Altgeld St', 'South Shore Dr & 67th St', 'Blue Island Ave & 18th St', 'Morgan St & Lake St', 'Green St & Madison St', 'Wood St & Milwaukee Ave', 'Shields Ave & 28th Pl', 'Southport Ave & Roscoe St', 'Woodlawn Ave & 55th St', 'Kostner Ave & Lake St', 'Sheffield Ave & Wrightwood Ave', 'Fort Dearborn Dr & 31st St', 'Millard Ave & 26th St', 'Cottage Grove Ave & Oakwood Blvd', 'Vernon Ave & 79th St', 'Troy St & North Ave', 'Blackstone Ave & Hyde Park Blvd', 'Calumet Ave & 33rd St', 'East Ave & Madison St', 'Clark St & Lake St', 'Orleans St & Elm St (*)', 'Franklin St & Monroe St', 'Damen Ave & Foster Ave', 'Woodlawn Ave & 75th St', 'Clark St & Leland Ave', 'Clark St & Randolph St', 'Wolcott Ave & Fargo Ave', 'Ashland Ave & McDowell Ave', 'Paulina St & Montrose Ave', 'Albany Ave & Bloomingdale Ave', 'Kedzie Ave & Harrison St', 'Ellis Ave & 83rd St', 'Stony Island Ave & South Chicago Ave', 'Larrabee St & Kingsbury St', 'Kingsbury St & Kinzie St', 'Leavitt St & Archer Ave', 'MLK Jr Dr & 47th St', 'Pulaski Rd & Eddy St', 'Dorchester Ave & 63rd St', 'Stony Island Ave & 67th St', 'Clarendon Ave & Leland Ave', 'Albany Ave & 26th St', 'Desplaines St & Jackson Blvd', 'Financial Pl & Congress Pkwy', 'Cottage Grove Ave & 71st St', 'California Ave & 26th St', 'Noble St & Milwaukee Ave', 'Princeton Ave & 47th St', 'Sheridan Rd & Greenleaf Ave', 'Cottage Grove Ave & 51st St', 'Normal Ave & 72nd St', 'Dayton St & North Ave', 'Shore Dr & 55th St', 'Greenview Ave & Jarvis Ave', 'State St & Pershing Rd', 'Humboldt Blvd & Armitage Ave', 'Wells St & Walton St', 'Burnham Harbor', 'Jeffery Blvd & 76th St', 'Ogden Ave & Roosevelt Rd', 'Calumet Ave & 35th St', 'LaSalle St & Adams St', 'Clinton St & Jackson Blvd', 'Halsted St & Blackhawk St (*)', 'Broadway & Sheridan Rd', 'Lake Shore Dr & North Blvd', 'Chicago Ave & Sheridan Rd', 'Central Ave & Chicago Ave', 'Southport Ave & Wrightwood Ave', 'Central Park Blvd & 5th Ave', 'Central Ave & Harrison St', 'Clark St & Schreiber Ave', 'California Ave & Cortez St', 'Greenview Ave & Fullerton Ave', 'Franklin St & Lake St', 'Bissell St & Armitage Ave', 'Morgan St & 31st St', 'Lake Shore Dr & Belmont Ave', 'Campbell Ave & Fullerton Ave', 'Warren Park East', 'Western Ave & Winnebago Ave', 'Streeter Dr & Grand Ave', 'California Ave & Fletcher St', 'Greenview Ave & Diversey Pkwy', 'Sheridan Rd & Noyes St (NU)', 'California Ave & Montrose Ave', 'Warren Park West', 'Ashland Ave & 66th St', 'Lincoln Ave & Diversey Pkwy', 'Central St & Girard Ave', 'Maplewood Ave & Peterson Ave', 'May St & 69th St', 'Aberdeen St & Monroe St', 'Dodge Ave & Church St', 'Lawndale Ave & 23rd St', 'Ridgeland Ave & Lake St', 'Stony Island Ave & 64th St', 'May St & Cullerton St', 'Lombard Ave & Madison St', 'Clinton St & 18th St', 'Ellis Ave & 55th St', 'Hermitage Ave & Polk St', 'Clybourn Ave & Division St', 'Kedzie Ave & 21st St', 'Austin Blvd & Chicago Ave', 'Clinton St & Madison St', 'Sheridan Rd & Buena Ave', 'Kedzie Ave & Lake St', 'Indiana Ave & 40th St', 'South Shore Dr & 74th St', 'Leavitt St & Armitage Ave', 'Sheffield Ave & Waveland Ave', 'Prairie Ave & Garfield Blvd', 'May St & Taylor St', 'Talman Ave & Addison St', 'University Ave & 57th St', 'Ashland Ave & Harrison St', 'Wabash Ave & Grand Ave', 'Avondale Ave & Irving Park Rd', 'Clarendon Ave & Junior Ter', 'Stockton Dr & Wrightwood Ave', 'Michigan Ave & Congress Pkwy', 'Cuyler Ave & Augusta St', 'California Ave & 23rd Pl', 'Central Park Ave & Elbridge Ave', 'Damen Ave & Wellington Ave', 'Kilbourn Ave & Irving Park Rd', 'State St & 19th St', 'Drake Ave & Addison St', 'California Ave & 21st St', 'Leavitt St & North Ave', 'Jeffery Blvd & 71st St', 'Kedzie Ave & Chicago Ave', 'California Ave & Division St', 'Pulaski Rd & Madison St', 'Lake Shore Dr & Monroe St', 'Knox Ave & Montrose Ave', 'Clark St & Berwyn Ave', 'Lakeview Ave & Fullerton Pkwy', 'Western Ave & Howard St', 'Clarendon Ave & Gordon Ter', 'St. Clair St & Erie St', 'Rush St & Hubbard St', 'Shedd Aquarium', 'Damen Ave & Division St', 'Cottage Grove Ave & 47th St', 'Ashland Ave & 63rd St', 'Central St Metra', 'Ashland Ave & Grace St', 'Peoria St & Jackson Blvd', 'Stave St & Armitage Ave', 'Halsted St & 59th St', 'Halsted St & Polk St', 'Ravenswood Ave & Lawrence Ave', 'Jefferson St & Monroe St', 'Halsted St & 51st St', 'Clark St & Elmdale Ave', 'Sedgwick St & Webster Ave', 'Wells St & Huron St', 'Southport Ave & Irving Park Rd', 'Western Ave & Walton St', 'Oakley Ave & Irving Park Rd', 'Paulina St & Howard St', 'Racine Ave & Randolph St', 'Canal St & Monroe St (*)', 'Cottage Grove Ave & 43rd St', 'Shields Ave & 31st St', 'Damen Ave & Cullerton St', 'Bennett Ave & 79th St', 'Southport Ave & Clark St', 'Cicero Ave & Quincy St', 'Lincoln Ave & Leavitt St', 'Damen Ave & Melrose Ave', 'Broadway & Ridge Ave', 'Pine Grove Ave & Irving Park Rd', 'Lincoln Ave & Fullerton Ave', 'Lincoln Ave & Roscoe St', 'Ashland Ave & Chicago Ave', 'Damen Ave & Cortland St', 'Ashland Ave & Wellington Ave', 'Exchange Ave & 79th St', 'Ashland Ave & Blackhawk St', 'Ashland Ave & 69th St', 'Ashland Ave & 13th St', 'Clark St & Touhy Ave', 'Ashland Ave & Augusta Blvd', 'Clark St & Wrightwood Ave', 'Clifton Ave & Lawrence Ave', 'Clark St & Grace St', 'Ogden Ave & Race Ave', 'Drake Ave & Montrose Ave', 'Mason Ave & Madison St', 'Manor Ave & Leland Ave', 'Clinton St & Polk St (*)', 'Desplaines St & Randolph St', 'Washtenaw Ave & Lawrence Ave', 'Museum of Science and Industry', 'California Ave & Lake St', 'Oak Park Ave & South Blvd', 'Ogden Ave & Congress Pkwy', 'Paulina St & 18th St', 'St. Louis Ave & Balmoral Ave', 'State St & Harrison St', 'Glenwood Ave & Touhy Ave', 'Canal St & Harrison St', 'Damen Ave & Charleston St', 'Lake Shore Dr & Diversey Pkwy', 'Francisco Ave & Foster Ave', 'Budlong Woods Library', 'Indiana Ave & 26th St', 'Clark St & Winnemac Ave', 'Kedzie Ave & Leland Ave', 'Canal St & Adams St', 'Southport Ave & Waveland Ave', 'Millennium Park', 'Forest Ave & Lake St', 'Halsted St & Archer Ave', 'Halsted St & Roscoe St', 'Damen Ave & Grand Ave', 'Winchester Ave & Elston Ave', 'Halsted St & North Branch St', 'Milwaukee Ave & Cuyler Ave', 'Wabash Ave & Roosevelt Rd', 'Monticello Ave & Irving Park Rd', 'Sheffield Ave & Willow St', 'Yates Blvd & 75th St', 'Halsted St & 56th St', 'Carpenter St & Huron St', 'Southport Ave & Belmont Ave', 'Halsted St & 69th St', 'Loomis St & Archer Ave', 'Sawyer Ave & Irving Park Rd', 'Ashland Ave & Belle Plaine Ave', 'McClurg Ct & Erie St', 'Ridge Blvd & Howard St', 'Sheridan Rd & Irving Park Rd', 'Broadway & Barry Ave', 'Wabash Ave & Cermak Rd', 'Franklin St & Chicago Ave', 'Racine Ave & Fullerton Ave', 'Halsted St & 63rd St', 'California Ave & North Ave', 'Wilton Ave & Diversey Pkwy', 'Sheffield Ave & Kingsbury St', 'State St & Randolph St', 'Orleans St & Ohio St', 'Ashland Ave & 21st St', 'Wisconsin Ave & Madison St', 'Sedgwick St & Huron St', 'Artesian Ave & Hubbard St', 'Lincoln Ave & Winona St', 'Laramie Ave & Kinzie St', 'Lake Shore Dr & Wellington Ave', 'Laramie Ave & Madison St', 'Southport Ave & Wellington Ave', 'Wood St & Taylor St', 'Stony Island Ave & 82nd St', 'Valli Produce - Evanston Plaza', 'Larrabee St & Armitage Ave', 'Kimball Ave & Belmont Ave', 'Wood St & Division St', 'Harper Ave & 59th St', 'Hampden Ct & Diversey Pkwy', 'Ritchie Ct & Banks St', 'Canal St & Madison St', 'Kenton Ave & Madison St', 'Keystone Ave & Fullerton Ave', 'Broadway & Granville Ave', 'Pulaski Rd & Congress Pkwy', 'Larrabee St & North Ave', 'Racine Ave & Wrightwood Ave', 'Albany (Kedzie) Ave & Montrose Ave', 'Halsted St & Maxwell St', 'Halsted St & Willow St', 'Marshfield Ave & 59th St', 'State St & 33rd St', 'Marshfield Ave & 44th St', 'Wabash Ave & 8th St', 'Ravenswood Ave & Irving Park Rd', 'Racine Ave & 15th St', 'DuSable Museum', 'Stony Island Ave & 75th St', 'Western Blvd & 48th Pl', 'Kedzie Ave & Roosevelt Rd'}\n"
     ]
    }
   ],
   "source": [
    "print(\"\\nTAREFA 10: Imprimindo as start stations:\")\n",
    "print(len(start_stations))\n",
    "print(start_stations)"
   ]
  },
  {
   "cell_type": "markdown",
   "id": "6d064d63",
   "metadata": {},
   "source": [
    "#### TAREFA 12\n",
    "TODO: Crie uma função para contar tipos de usuários, sem definir os tipos\n",
    "para que nós possamos usar essa função com outra categoria de dados."
   ]
  },
  {
   "cell_type": "code",
   "execution_count": 49,
   "id": "a0649215",
   "metadata": {},
   "outputs": [],
   "source": [
    "def count_items(column_list):\n",
    "    \"\"\"\n",
    "      Retorna duas listas: uma contendo todas os possíveis valores que a lista pode assumir e a outra com o tamanho da lista.\n",
    "      Argumentos:\n",
    "          data: lista representando o conjunto de dados.\n",
    "      Retorna:\n",
    "          Lista com a volumetria total da lista.\n",
    "          Lista com os tipos de valores distintos que a lista contém.\n",
    "\n",
    "    \"\"\"    \n",
    "    \n",
    "    item_types = []\n",
    "    count_items = []\n",
    "    count = 0\n",
    "    \n",
    "    for value in column_list:\n",
    "        count += 1\n",
    "        \n",
    "    item_types = set(column_list)\n",
    "    count_items.append(count)\n",
    "    \n",
    "    return item_types, count_items"
   ]
  },
  {
   "cell_type": "code",
   "execution_count": 50,
   "id": "239d0826",
   "metadata": {},
   "outputs": [
    {
     "name": "stdout",
     "output_type": "stream",
     "text": [
      "\n",
      "TAREFA 12: Imprimindo resultados para count_items()\n",
      "Tipos: {'', 'Female', 'Male'} Counts: [1048575]\n"
     ]
    }
   ],
   "source": [
    "    column_list = column_to_list(data_list, -2)\n",
    "    types, counts = count_items(column_list)\n",
    "    print(\"\\nTAREFA 12: Imprimindo resultados para count_items()\")\n",
    "    print(\"Tipos:\", types, \"Counts:\", counts)"
   ]
  },
  {
   "cell_type": "code",
   "execution_count": null,
   "id": "4d155358",
   "metadata": {},
   "outputs": [],
   "source": []
  }
 ],
 "metadata": {
  "kernelspec": {
   "display_name": "Python 3 (ipykernel)",
   "language": "python",
   "name": "python3"
  },
  "language_info": {
   "codemirror_mode": {
    "name": "ipython",
    "version": 3
   },
   "file_extension": ".py",
   "mimetype": "text/x-python",
   "name": "python",
   "nbconvert_exporter": "python",
   "pygments_lexer": "ipython3",
   "version": "3.11.3"
  }
 },
 "nbformat": 4,
 "nbformat_minor": 5
}
